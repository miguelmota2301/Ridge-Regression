{
  "nbformat": 4,
  "nbformat_minor": 0,
  "metadata": {
    "colab": {
      "provenance": [],
      "mount_file_id": "1_SxOavMOrA6sc-oCCFCCXQ8oJIbCAG8J",
      "authorship_tag": "ABX9TyNhdeP2MPmk7sa6wnVCxyus",
      "include_colab_link": true
    },
    "kernelspec": {
      "name": "python3",
      "display_name": "Python 3"
    },
    "language_info": {
      "name": "python"
    }
  },
  "cells": [
    {
      "cell_type": "markdown",
      "metadata": {
        "id": "view-in-github",
        "colab_type": "text"
      },
      "source": [
        "<a href=\"https://colab.research.google.com/github/miguelmota2301/Ridge-Regression/blob/main/Ridge_Exemplo.ipynb\" target=\"_parent\"><img src=\"https://colab.research.google.com/assets/colab-badge.svg\" alt=\"Open In Colab\"/></a>"
      ]
    },
    {
      "cell_type": "code",
      "execution_count": null,
      "metadata": {
        "id": "SQzKeMupihAt"
      },
      "outputs": [],
      "source": [
        "#IMPORTANDO BIBLIOTECAS E FUNÇÕES\n",
        "import pandas as pd\n",
        "import numpy as np\n",
        "import matplotlib.pyplot as plt\n",
        "import seaborn as sns\n",
        "from sklearn.model_selection import train_test_split\n",
        "from sklearn.linear_model import Ridge, LinearRegression\n",
        "from sklearn.preprocessing import StandardScaler\n",
        "from sklearn.metrics import mean_squared_error, r2_score, mean_absolute_error "
      ]
    },
    {
      "cell_type": "code",
      "source": [
        "#IMPORTANDO O DRIVE PARA COLETAR OS DADOS\n",
        "from google.colab import drive\n",
        "drive.mount('/content/drive')"
      ],
      "metadata": {
        "colab": {
          "base_uri": "https://localhost:8080/"
        },
        "id": "C_YHw6MSE4FJ",
        "outputId": "fbade763-5d68-4ba9-b553-1f58b75ee8b8"
      },
      "execution_count": null,
      "outputs": [
        {
          "output_type": "stream",
          "name": "stdout",
          "text": [
            "Drive already mounted at /content/drive; to attempt to forcibly remount, call drive.mount(\"/content/drive\", force_remount=True).\n"
          ]
        }
      ]
    },
    {
      "cell_type": "code",
      "source": [
        "#DADOS QUE SERÃO UTILIZADOS PARA FAZER O RIDGE\n",
        "dados = pd.read_excel(\"/content/drive/MyDrive/Cópia de 2019volleyball.xlsx\")\n",
        "dados.head()"
      ],
      "metadata": {
        "colab": {
          "base_uri": "https://localhost:8080/",
          "height": 392
        },
        "id": "IxuZ8vyHjo5w",
        "outputId": "9d538d6d-a4dc-4fee-d605-c6419aa5b14a"
      },
      "execution_count": null,
      "outputs": [
        {
          "output_type": "execute_result",
          "data": {
            "text/plain": [
              "                  Nome  Ranking Geral  Ranking em 2020 Nacionalidade  \\\n",
              "0             Ting Zhu              3               23         China   \n",
              "1      Macris Carneiro            176               19        Brazil   \n",
              "2  Gabriela GuimarÃ£es             31               13        Brazil   \n",
              "3    Tijana BoÅ¡koviÄ             28                3        Serbia   \n",
              "4          Paola Egonu            134                2         Italy   \n",
              "\n",
              "          Posição Data de Nascimento  Altura (cm)  Peso (kg)  Salto (cm)  \\\n",
              "0  Outside Hitter         1994-11-29          198         78         327   \n",
              "1          Setter         1989-03-03          178         68         292   \n",
              "2  Outside Hitter         1994-05-19          180         65         305   \n",
              "3        Opposite         1997-03-08          194         84         329   \n",
              "4        Opposite         1998-12-18          190         70         336   \n",
              "\n",
              "   Bloqueio (cm) Mão Dominante  Pontos do país  Pontos  \n",
              "0            305         Right           320.0  1190.0  \n",
              "1            285           NaN           220.0   833.0  \n",
              "2            289         Right           220.0   788.0  \n",
              "3            310          Left           252.0   630.5  \n",
              "4            315         Right           165.0   597.0  "
            ],
            "text/html": [
              "\n",
              "  <div id=\"df-bd7e0c29-e1d3-4f52-9617-25c985614265\">\n",
              "    <div class=\"colab-df-container\">\n",
              "      <div>\n",
              "<style scoped>\n",
              "    .dataframe tbody tr th:only-of-type {\n",
              "        vertical-align: middle;\n",
              "    }\n",
              "\n",
              "    .dataframe tbody tr th {\n",
              "        vertical-align: top;\n",
              "    }\n",
              "\n",
              "    .dataframe thead th {\n",
              "        text-align: right;\n",
              "    }\n",
              "</style>\n",
              "<table border=\"1\" class=\"dataframe\">\n",
              "  <thead>\n",
              "    <tr style=\"text-align: right;\">\n",
              "      <th></th>\n",
              "      <th>Nome</th>\n",
              "      <th>Ranking Geral</th>\n",
              "      <th>Ranking em 2020</th>\n",
              "      <th>Nacionalidade</th>\n",
              "      <th>Posição</th>\n",
              "      <th>Data de Nascimento</th>\n",
              "      <th>Altura (cm)</th>\n",
              "      <th>Peso (kg)</th>\n",
              "      <th>Salto (cm)</th>\n",
              "      <th>Bloqueio (cm)</th>\n",
              "      <th>Mão Dominante</th>\n",
              "      <th>Pontos do país</th>\n",
              "      <th>Pontos</th>\n",
              "    </tr>\n",
              "  </thead>\n",
              "  <tbody>\n",
              "    <tr>\n",
              "      <th>0</th>\n",
              "      <td>Ting Zhu</td>\n",
              "      <td>3</td>\n",
              "      <td>23</td>\n",
              "      <td>China</td>\n",
              "      <td>Outside Hitter</td>\n",
              "      <td>1994-11-29</td>\n",
              "      <td>198</td>\n",
              "      <td>78</td>\n",
              "      <td>327</td>\n",
              "      <td>305</td>\n",
              "      <td>Right</td>\n",
              "      <td>320.0</td>\n",
              "      <td>1190.0</td>\n",
              "    </tr>\n",
              "    <tr>\n",
              "      <th>1</th>\n",
              "      <td>Macris Carneiro</td>\n",
              "      <td>176</td>\n",
              "      <td>19</td>\n",
              "      <td>Brazil</td>\n",
              "      <td>Setter</td>\n",
              "      <td>1989-03-03</td>\n",
              "      <td>178</td>\n",
              "      <td>68</td>\n",
              "      <td>292</td>\n",
              "      <td>285</td>\n",
              "      <td>NaN</td>\n",
              "      <td>220.0</td>\n",
              "      <td>833.0</td>\n",
              "    </tr>\n",
              "    <tr>\n",
              "      <th>2</th>\n",
              "      <td>Gabriela GuimarÃ£es</td>\n",
              "      <td>31</td>\n",
              "      <td>13</td>\n",
              "      <td>Brazil</td>\n",
              "      <td>Outside Hitter</td>\n",
              "      <td>1994-05-19</td>\n",
              "      <td>180</td>\n",
              "      <td>65</td>\n",
              "      <td>305</td>\n",
              "      <td>289</td>\n",
              "      <td>Right</td>\n",
              "      <td>220.0</td>\n",
              "      <td>788.0</td>\n",
              "    </tr>\n",
              "    <tr>\n",
              "      <th>3</th>\n",
              "      <td>Tijana BoÅ¡koviÄ</td>\n",
              "      <td>28</td>\n",
              "      <td>3</td>\n",
              "      <td>Serbia</td>\n",
              "      <td>Opposite</td>\n",
              "      <td>1997-03-08</td>\n",
              "      <td>194</td>\n",
              "      <td>84</td>\n",
              "      <td>329</td>\n",
              "      <td>310</td>\n",
              "      <td>Left</td>\n",
              "      <td>252.0</td>\n",
              "      <td>630.5</td>\n",
              "    </tr>\n",
              "    <tr>\n",
              "      <th>4</th>\n",
              "      <td>Paola Egonu</td>\n",
              "      <td>134</td>\n",
              "      <td>2</td>\n",
              "      <td>Italy</td>\n",
              "      <td>Opposite</td>\n",
              "      <td>1998-12-18</td>\n",
              "      <td>190</td>\n",
              "      <td>70</td>\n",
              "      <td>336</td>\n",
              "      <td>315</td>\n",
              "      <td>Right</td>\n",
              "      <td>165.0</td>\n",
              "      <td>597.0</td>\n",
              "    </tr>\n",
              "  </tbody>\n",
              "</table>\n",
              "</div>\n",
              "      <button class=\"colab-df-convert\" onclick=\"convertToInteractive('df-bd7e0c29-e1d3-4f52-9617-25c985614265')\"\n",
              "              title=\"Convert this dataframe to an interactive table.\"\n",
              "              style=\"display:none;\">\n",
              "        \n",
              "  <svg xmlns=\"http://www.w3.org/2000/svg\" height=\"24px\"viewBox=\"0 0 24 24\"\n",
              "       width=\"24px\">\n",
              "    <path d=\"M0 0h24v24H0V0z\" fill=\"none\"/>\n",
              "    <path d=\"M18.56 5.44l.94 2.06.94-2.06 2.06-.94-2.06-.94-.94-2.06-.94 2.06-2.06.94zm-11 1L8.5 8.5l.94-2.06 2.06-.94-2.06-.94L8.5 2.5l-.94 2.06-2.06.94zm10 10l.94 2.06.94-2.06 2.06-.94-2.06-.94-.94-2.06-.94 2.06-2.06.94z\"/><path d=\"M17.41 7.96l-1.37-1.37c-.4-.4-.92-.59-1.43-.59-.52 0-1.04.2-1.43.59L10.3 9.45l-7.72 7.72c-.78.78-.78 2.05 0 2.83L4 21.41c.39.39.9.59 1.41.59.51 0 1.02-.2 1.41-.59l7.78-7.78 2.81-2.81c.8-.78.8-2.07 0-2.86zM5.41 20L4 18.59l7.72-7.72 1.47 1.35L5.41 20z\"/>\n",
              "  </svg>\n",
              "      </button>\n",
              "      \n",
              "  <style>\n",
              "    .colab-df-container {\n",
              "      display:flex;\n",
              "      flex-wrap:wrap;\n",
              "      gap: 12px;\n",
              "    }\n",
              "\n",
              "    .colab-df-convert {\n",
              "      background-color: #E8F0FE;\n",
              "      border: none;\n",
              "      border-radius: 50%;\n",
              "      cursor: pointer;\n",
              "      display: none;\n",
              "      fill: #1967D2;\n",
              "      height: 32px;\n",
              "      padding: 0 0 0 0;\n",
              "      width: 32px;\n",
              "    }\n",
              "\n",
              "    .colab-df-convert:hover {\n",
              "      background-color: #E2EBFA;\n",
              "      box-shadow: 0px 1px 2px rgba(60, 64, 67, 0.3), 0px 1px 3px 1px rgba(60, 64, 67, 0.15);\n",
              "      fill: #174EA6;\n",
              "    }\n",
              "\n",
              "    [theme=dark] .colab-df-convert {\n",
              "      background-color: #3B4455;\n",
              "      fill: #D2E3FC;\n",
              "    }\n",
              "\n",
              "    [theme=dark] .colab-df-convert:hover {\n",
              "      background-color: #434B5C;\n",
              "      box-shadow: 0px 1px 3px 1px rgba(0, 0, 0, 0.15);\n",
              "      filter: drop-shadow(0px 1px 2px rgba(0, 0, 0, 0.3));\n",
              "      fill: #FFFFFF;\n",
              "    }\n",
              "  </style>\n",
              "\n",
              "      <script>\n",
              "        const buttonEl =\n",
              "          document.querySelector('#df-bd7e0c29-e1d3-4f52-9617-25c985614265 button.colab-df-convert');\n",
              "        buttonEl.style.display =\n",
              "          google.colab.kernel.accessAllowed ? 'block' : 'none';\n",
              "\n",
              "        async function convertToInteractive(key) {\n",
              "          const element = document.querySelector('#df-bd7e0c29-e1d3-4f52-9617-25c985614265');\n",
              "          const dataTable =\n",
              "            await google.colab.kernel.invokeFunction('convertToInteractive',\n",
              "                                                     [key], {});\n",
              "          if (!dataTable) return;\n",
              "\n",
              "          const docLinkHtml = 'Like what you see? Visit the ' +\n",
              "            '<a target=\"_blank\" href=https://colab.research.google.com/notebooks/data_table.ipynb>data table notebook</a>'\n",
              "            + ' to learn more about interactive tables.';\n",
              "          element.innerHTML = '';\n",
              "          dataTable['output_type'] = 'display_data';\n",
              "          await google.colab.output.renderOutput(dataTable, element);\n",
              "          const docLink = document.createElement('div');\n",
              "          docLink.innerHTML = docLinkHtml;\n",
              "          element.appendChild(docLink);\n",
              "        }\n",
              "      </script>\n",
              "    </div>\n",
              "  </div>\n",
              "  "
            ]
          },
          "metadata": {},
          "execution_count": 114
        }
      ]
    },
    {
      "cell_type": "code",
      "source": [
        "#GRÁFICO SCATTER ALTURA X PESO\n",
        "sns.scatterplot(y = 'Altura (cm)', x = 'Peso (kg)', data = dados, color=\"purple\")\n",
        "plt.show()"
      ],
      "metadata": {
        "colab": {
          "base_uri": "https://localhost:8080/",
          "height": 279
        },
        "id": "FO6Nzwo8kHDH",
        "outputId": "66764e85-1f72-49cc-8488-06296f79d973"
      },
      "execution_count": null,
      "outputs": [
        {
          "output_type": "display_data",
          "data": {
            "text/plain": [
              "<Figure size 432x288 with 1 Axes>"
            ],
            "image/png": "[encoded data removed]"
          },
          "metadata": {
            "needs_background": "light"
          }
        }
      ]
    },
    {
      "cell_type": "code",
      "source": [
        "#SEPARANDO A FEATURE MATRIX E O TARGET VECTOR\n",
        "X = dados[\"Peso (kg)\"]\n",
        "y = dados[\"Altura (cm)\"]"
      ],
      "metadata": {
        "id": "tuh1bjEJljvT"
      },
      "execution_count": null,
      "outputs": []
    },
    {
      "cell_type": "code",
      "source": [
        "#REDIMENSIONANDO X\n",
        "X = X.values.reshape(-1,1)\n",
        "print(f\"Shape:{X.shape}\\nNº de dimensões:{X.ndim}\")"
      ],
      "metadata": {
        "colab": {
          "base_uri": "https://localhost:8080/"
        },
        "id": "HzptRpVnx8Cn",
        "outputId": "e45c7b21-f89e-4251-e8b3-45844d802d5c"
      },
      "execution_count": null,
      "outputs": [
        {
          "output_type": "stream",
          "name": "stdout",
          "text": [
            "Shape:(30, 1)\n",
            "Nº de dimensões:2\n"
          ]
        }
      ]
    },
    {
      "cell_type": "code",
      "source": [
        "#SEPARANDO OS DADOS ENTRE TREINO E TESTE\n",
        "X_train, X_test, y_train, y_test = train_test_split(X, y, test_size=0.3, random_state=0)"
      ],
      "metadata": {
        "id": "hnF4v68Kl9O7"
      },
      "execution_count": null,
      "outputs": []
    },
    {
      "cell_type": "code",
      "source": [
        "#RIDGE REGRESSION COM ALPHA 1.0 E PRINTAR OS VALORES DE βn\n",
        "pipeline = Ridge(alpha = 1.0)\n",
        "pipeline.fit(X_train, y_train)\n",
        "beta0 = pipeline.intercept_\n",
        "beta1 = pipeline.coef_\n",
        "print(f\"β0:\\t{beta0}\")\n",
        "print(f\"β1:\\t{beta1}\")"
      ],
      "metadata": {
        "colab": {
          "base_uri": "https://localhost:8080/"
        },
        "id": "NeMYG-2AnsvQ",
        "outputId": "95a1ea74-faff-4599-88fe-32eb0c286a9e"
      },
      "execution_count": null,
      "outputs": [
        {
          "output_type": "stream",
          "name": "stdout",
          "text": [
            "β0:\t123.71463472298841\n",
            "β1:\t[0.88478209]\n"
          ]
        }
      ]
    },
    {
      "cell_type": "code",
      "source": [
        "#PLOTAR O GRÁFICO DE RIDGE REGRESSION 1.0\n",
        "plt.figure(figsize=(10,6))\n",
        "plt.scatter(X,y, color = \"grey\")\n",
        "plt.plot(X, beta0 + beta1*X, color=\"brown\")\n",
        "plt.title(\"Ridge Regression 1.0\")\n",
        "plt.xlabel(\"Peso (kg)\")\n",
        "plt.ylabel(\"Altura (cm)\")\n",
        "plt.show()"
      ],
      "metadata": {
        "colab": {
          "base_uri": "https://localhost:8080/",
          "height": 404
        },
        "id": "x2b4nqcAyJFa",
        "outputId": "7705486d-1077-4e45-df6a-205aaa582ab3"
      },
      "execution_count": null,
      "outputs": [
        {
          "output_type": "display_data",
          "data": {
            "text/plain": [
              "<Figure size 720x432 with 1 Axes>"
            ],
            "image/png": "[encoded data removed]"
          },
          "metadata": {
            "needs_background": "light"
          }
        }
      ]
    },
    {
      "cell_type": "code",
      "source": [
        "#RIDGE REGRESSION COM ALPHA 100000 E PRINTAR OS VALORES DE βn\n",
        "pipelinecemmil = Ridge(alpha=100000)\n",
        "pipelinecemmil.fit(X_train, y_train)\n",
        "print(f\"β0:\\t{pipelinecemmil.coef_}\")\n",
        "print(f\"β1:\\t{pipelinecemmil.intercept_}\")"
      ],
      "metadata": {
        "colab": {
          "base_uri": "https://localhost:8080/"
        },
        "id": "iBHsoPm41voB",
        "outputId": "fb0c7d66-0d84-47f9-8579-7ad80f6df153"
      },
      "execution_count": null,
      "outputs": [
        {
          "output_type": "stream",
          "name": "stdout",
          "text": [
            "β0:\t[0.00531413]\n",
            "β1:\t189.5072141008431\n"
          ]
        }
      ]
    },
    {
      "cell_type": "code",
      "source": [
        "#PLOTAR O GRÁFICO DE RIDGE REGRESSIO 100000\n",
        "plt.figure(figsize=(10,6))\n",
        "plt.scatter(X,y, color = \"blue\")\n",
        "plt.plot(X, pipelinecemmil.intercept_ + pipelinecemmil.coef_*X, color= \"red\")\n",
        "plt.title(\"Rigde Regression 100000\")\n",
        "plt.xlabel(\"Peso (kg)\")\n",
        "plt.ylabel(\"Altura (cm)\")\n",
        "plt.show()"
      ],
      "metadata": {
        "colab": {
          "base_uri": "https://localhost:8080/",
          "height": 404
        },
        "id": "MlOlbj4K2fW-",
        "outputId": "14e25229-4441-43df-afbe-8fbd4bdce9cb"
      },
      "execution_count": null,
      "outputs": [
        {
          "output_type": "display_data",
          "data": {
            "text/plain": [
              "<Figure size 720x432 with 1 Axes>"
            ],
            "image/png": "[encoded data removed]"
          },
          "metadata": {
            "needs_background": "light"
          }
        }
      ]
    },
    {
      "cell_type": "code",
      "source": [
        "#RIDGE REGRESSION COM ALPHA 0.0001 E PRINTAR OS VALORES DE βn\n",
        "pipelinepequena = Ridge(alpha=0.0001)\n",
        "pipelinepequena.fit(X_train,y_train)\n",
        "print(f\"β0:\\t{pipelinepequena.intercept_}\")\n",
        "print(f\"β1:\\t{pipelinepequena.coef_}\")"
      ],
      "metadata": {
        "colab": {
          "base_uri": "https://localhost:8080/"
        },
        "id": "Ls9Du0xz3J2q",
        "outputId": "7ee3f9b3-abca-4ea9-9b17-b15222e6ae82"
      },
      "execution_count": null,
      "outputs": [
        {
          "output_type": "stream",
          "name": "stdout",
          "text": [
            "β0:\t123.6049210001315\n",
            "β1:\t[0.88624867]\n"
          ]
        }
      ]
    },
    {
      "cell_type": "code",
      "source": [
        "#PLOTAR O GRÁFICO DE RIDGE REGRESSION 0.0001\n",
        "plt.figure(figsize=(10,6))\n",
        "plt.scatter(X,y, color = \"orange\")\n",
        "plt.plot(X, pipelinepequena.intercept_ + pipelinepequena.coef_*X, color = \"green\")\n",
        "plt.title(\"Ridge Regression 0.0001\")\n",
        "plt.xlabel(\"Peso (kg)\")\n",
        "plt.ylabel(\"Altura (cm)\")\n",
        "plt.show()"
      ],
      "metadata": {
        "colab": {
          "base_uri": "https://localhost:8080/",
          "height": 404
        },
        "id": "lb-kEWky37fB",
        "outputId": "60ab797b-752d-4451-b8cf-6a517cf313f0"
      },
      "execution_count": null,
      "outputs": [
        {
          "output_type": "display_data",
          "data": {
            "text/plain": [
              "<Figure size 720x432 with 1 Axes>"
            ],
            "image/png": "[encoded data removed]"
          },
          "metadata": {
            "needs_background": "light"
          }
        }
      ]
    },
    {
      "cell_type": "code",
      "source": [
        "#TREINAR O MODELO A PARTIR DE LINEAR REGRESSION\n",
        "linear = LinearRegression()\n",
        "linear.fit(X_train, y_train)\n",
        "print(f\"β0:\\t{linear.coef_}\")\n",
        "print(f\"β1:\\t{linear.intercept_}\")"
      ],
      "metadata": {
        "colab": {
          "base_uri": "https://localhost:8080/"
        },
        "id": "nySZ-oSx4AjJ",
        "outputId": "50d66a74-5756-4f28-a5a3-10765260c825"
      },
      "execution_count": null,
      "outputs": [
        {
          "output_type": "stream",
          "name": "stdout",
          "text": [
            "β0:\t[0.88624882]\n",
            "β1:\t123.60491000947269\n"
          ]
        }
      ]
    },
    {
      "cell_type": "code",
      "source": [
        "#PLOTAR O GRÁFICO DE LINEAR REGRESSION\n",
        "plt.figure(figsize=(10,6))\n",
        "plt.scatter(X,y, color = \"black\")\n",
        "plt.plot(X, linear.intercept_ + linear.coef_*X, color = \"purple\")\n",
        "plt.title(\"Linear Regression\")\n",
        "plt.xlabel(\"Peso (kg)\")\n",
        "plt.ylabel(\"Altura (cm)\")\n",
        "plt.show()"
      ],
      "metadata": {
        "colab": {
          "base_uri": "https://localhost:8080/",
          "height": 404
        },
        "id": "lBhEde2_4dMj",
        "outputId": "8a76551e-ff94-4c66-cf56-5deeae69bf7b"
      },
      "execution_count": null,
      "outputs": [
        {
          "output_type": "display_data",
          "data": {
            "text/plain": [
              "<Figure size 720x432 with 1 Axes>"
            ],
            "image/png": "[encoded data removed]"
          },
          "metadata": {
            "needs_background": "light"
          }
        }
      ]
    },
    {
      "cell_type": "code",
      "source": [
        "#PREDIÇÃO DE VALORES A PARTIR DOS DADOS DE TESTE\n",
        "y_pred = pipeline.predict(X_test)\n",
        "y_predcemmil = pipelinecemmil.predict(X_test)\n",
        "y_predpequena = pipelinepequena.predict(X_test)\n",
        "y_predlinear = linear.predict(X_test)"
      ],
      "metadata": {
        "id": "fy6xtc4P6aMO"
      },
      "execution_count": null,
      "outputs": []
    },
    {
      "cell_type": "code",
      "source": [
        "#ERROS DE CADA UMA DAS PREDIÇÕES DOS DIFERENTES VALORES DE ALPHA\n",
        "erros = pd.DataFrame({'alpha' : [1.0, 100000, 0.0001, 0],\n",
        "                      'R²' : [r2_score(y_test, y_pred), r2_score(y_test, y_predcemmil), r2_score(y_test, y_predpequena), r2_score(y_test, y_predlinear)],\n",
        "                      'MSE' : [mean_squared_error(y_test, y_pred), mean_squared_error(y_test, y_predcemmil), mean_squared_error(y_test, y_predpequena), mean_squared_error(y_test, y_predlinear)],\n",
        "                      'MAE' : [mean_absolute_error(y_test, y_pred), mean_absolute_error(y_test, y_predcemmil), mean_absolute_error(y_test, y_predpequena), mean_absolute_error(y_test, y_predlinear)]\n",
        "})\n",
        "\n",
        "erros"
      ],
      "metadata": {
        "colab": {
          "base_uri": "https://localhost:8080/",
          "height": 175
        },
        "id": "EQSznHwHArDA",
        "outputId": "5690f583-18e6-44dd-f8be-8961c51d3213"
      },
      "execution_count": null,
      "outputs": [
        {
          "output_type": "execute_result",
          "data": {
            "text/plain": [
              "         alpha        R²         MSE       MAE\n",
              "0       1.0000  0.513705   47.008522  5.879642\n",
              "1  100000.0000 -0.480601  143.124741  9.364618\n",
              "2       0.0001  0.513553   47.023242  5.877066\n",
              "3       0.0000  0.513553   47.023244  5.877066"
            ],
            "text/html": [
              "\n",
              "  <div id=\"df-10aaf98a-3f7e-4ba6-a719-fd6d76567350\">\n",
              "    <div class=\"colab-df-container\">\n",
              "      <div>\n",
              "<style scoped>\n",
              "    .dataframe tbody tr th:only-of-type {\n",
              "        vertical-align: middle;\n",
              "    }\n",
              "\n",
              "    .dataframe tbody tr th {\n",
              "        vertical-align: top;\n",
              "    }\n",
              "\n",
              "    .dataframe thead th {\n",
              "        text-align: right;\n",
              "    }\n",
              "</style>\n",
              "<table border=\"1\" class=\"dataframe\">\n",
              "  <thead>\n",
              "    <tr style=\"text-align: right;\">\n",
              "      <th></th>\n",
              "      <th>alpha</th>\n",
              "      <th>R²</th>\n",
              "      <th>MSE</th>\n",
              "      <th>MAE</th>\n",
              "    </tr>\n",
              "  </thead>\n",
              "  <tbody>\n",
              "    <tr>\n",
              "      <th>0</th>\n",
              "      <td>1.0000</td>\n",
              "      <td>0.513705</td>\n",
              "      <td>47.008522</td>\n",
              "      <td>5.879642</td>\n",
              "    </tr>\n",
              "    <tr>\n",
              "      <th>1</th>\n",
              "      <td>100000.0000</td>\n",
              "      <td>-0.480601</td>\n",
              "      <td>143.124741</td>\n",
              "      <td>9.364618</td>\n",
              "    </tr>\n",
              "    <tr>\n",
              "      <th>2</th>\n",
              "      <td>0.0001</td>\n",
              "      <td>0.513553</td>\n",
              "      <td>47.023242</td>\n",
              "      <td>5.877066</td>\n",
              "    </tr>\n",
              "    <tr>\n",
              "      <th>3</th>\n",
              "      <td>0.0000</td>\n",
              "      <td>0.513553</td>\n",
              "      <td>47.023244</td>\n",
              "      <td>5.877066</td>\n",
              "    </tr>\n",
              "  </tbody>\n",
              "</table>\n",
              "</div>\n",
              "      <button class=\"colab-df-convert\" onclick=\"convertToInteractive('df-10aaf98a-3f7e-4ba6-a719-fd6d76567350')\"\n",
              "              title=\"Convert this dataframe to an interactive table.\"\n",
              "              style=\"display:none;\">\n",
              "        \n",
              "  <svg xmlns=\"http://www.w3.org/2000/svg\" height=\"24px\"viewBox=\"0 0 24 24\"\n",
              "       width=\"24px\">\n",
              "    <path d=\"M0 0h24v24H0V0z\" fill=\"none\"/>\n",
              "    <path d=\"M18.56 5.44l.94 2.06.94-2.06 2.06-.94-2.06-.94-.94-2.06-.94 2.06-2.06.94zm-11 1L8.5 8.5l.94-2.06 2.06-.94-2.06-.94L8.5 2.5l-.94 2.06-2.06.94zm10 10l.94 2.06.94-2.06 2.06-.94-2.06-.94-.94-2.06-.94 2.06-2.06.94z\"/><path d=\"M17.41 7.96l-1.37-1.37c-.4-.4-.92-.59-1.43-.59-.52 0-1.04.2-1.43.59L10.3 9.45l-7.72 7.72c-.78.78-.78 2.05 0 2.83L4 21.41c.39.39.9.59 1.41.59.51 0 1.02-.2 1.41-.59l7.78-7.78 2.81-2.81c.8-.78.8-2.07 0-2.86zM5.41 20L4 18.59l7.72-7.72 1.47 1.35L5.41 20z\"/>\n",
              "  </svg>\n",
              "      </button>\n",
              "      \n",
              "  <style>\n",
              "    .colab-df-container {\n",
              "      display:flex;\n",
              "      flex-wrap:wrap;\n",
              "      gap: 12px;\n",
              "    }\n",
              "\n",
              "    .colab-df-convert {\n",
              "      background-color: #E8F0FE;\n",
              "      border: none;\n",
              "      border-radius: 50%;\n",
              "      cursor: pointer;\n",
              "      display: none;\n",
              "      fill: #1967D2;\n",
              "      height: 32px;\n",
              "      padding: 0 0 0 0;\n",
              "      width: 32px;\n",
              "    }\n",
              "\n",
              "    .colab-df-convert:hover {\n",
              "      background-color: #E2EBFA;\n",
              "      box-shadow: 0px 1px 2px rgba(60, 64, 67, 0.3), 0px 1px 3px 1px rgba(60, 64, 67, 0.15);\n",
              "      fill: #174EA6;\n",
              "    }\n",
              "\n",
              "    [theme=dark] .colab-df-convert {\n",
              "      background-color: #3B4455;\n",
              "      fill: #D2E3FC;\n",
              "    }\n",
              "\n",
              "    [theme=dark] .colab-df-convert:hover {\n",
              "      background-color: #434B5C;\n",
              "      box-shadow: 0px 1px 3px 1px rgba(0, 0, 0, 0.15);\n",
              "      filter: drop-shadow(0px 1px 2px rgba(0, 0, 0, 0.3));\n",
              "      fill: #FFFFFF;\n",
              "    }\n",
              "  </style>\n",
              "\n",
              "      <script>\n",
              "        const buttonEl =\n",
              "          document.querySelector('#df-10aaf98a-3f7e-4ba6-a719-fd6d76567350 button.colab-df-convert');\n",
              "        buttonEl.style.display =\n",
              "          google.colab.kernel.accessAllowed ? 'block' : 'none';\n",
              "\n",
              "        async function convertToInteractive(key) {\n",
              "          const element = document.querySelector('#df-10aaf98a-3f7e-4ba6-a719-fd6d76567350');\n",
              "          const dataTable =\n",
              "            await google.colab.kernel.invokeFunction('convertToInteractive',\n",
              "                                                     [key], {});\n",
              "          if (!dataTable) return;\n",
              "\n",
              "          const docLinkHtml = 'Like what you see? Visit the ' +\n",
              "            '<a target=\"_blank\" href=https://colab.research.google.com/notebooks/data_table.ipynb>data table notebook</a>'\n",
              "            + ' to learn more about interactive tables.';\n",
              "          element.innerHTML = '';\n",
              "          dataTable['output_type'] = 'display_data';\n",
              "          await google.colab.output.renderOutput(dataTable, element);\n",
              "          const docLink = document.createElement('div');\n",
              "          docLink.innerHTML = docLinkHtml;\n",
              "          element.appendChild(docLink);\n",
              "        }\n",
              "      </script>\n",
              "    </div>\n",
              "  </div>\n",
              "  "
            ]
          },
          "metadata": {},
          "execution_count": 128
        }
      ]
    }
  ]
}